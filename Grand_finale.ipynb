{
 "cells": [
  {
   "cell_type": "markdown",
   "metadata": {},
   "source": [
    "# <center>Battle of the Neighborhoods  <br>-<br>What to Eat in a Financial Metropolis?</center>"
   ]
  },
  {
   "cell_type": "markdown",
   "metadata": {},
   "source": [
    "## The Business Idea"
   ]
  },
  {
   "cell_type": "markdown",
   "metadata": {},
   "source": [
    "Global financial centers are some of the most wealthy regions. They are spacially very concentrated and a hot spot for luxury products. In the aftermath of the coronavirus pandemic, thousands of restaurants shut down for good, even in the busy financial centers. But ones downfall is the others chance and people always need places to go and eat. New restaurants are needed! The idea is to open a restaurant in Frankfurt am Main (short: FFM), Germany. As a restaurant, especially nowadays, you want to minimize risk. So this is part of a whole market study an investor could rely on for his decisions. So what kind of restaurant? What does the international financial elite love to eat? Is there a prevalent type of restaurant between those cities? Let's find out!"
   ]
  },
  {
   "cell_type": "markdown",
   "metadata": {},
   "source": [
    "## The Data "
   ]
  },
  {
   "cell_type": "markdown",
   "metadata": {},
   "source": [
    "Different cultures, different food, right? But do mondane people favor their native kitchen? Or do they all agree on one trendy type of food all over the world? To get a better overview, several cities with big financial centers will be analyzed: New York, Toronto, Tokyo, London and Frankfurt. The data used will be provided by <a href = \"url\">foursquare.com</a>, automatically downloaded via their API. The focus will lie on restaurants only, excluding cafes, bars, bistros and so on."
   ]
  },
  {
   "cell_type": "code",
   "execution_count": 1,
   "metadata": {},
   "outputs": [],
   "source": [
    "import numpy as np\n",
    "import pandas as pd \n",
    "pd.set_option('display.max_columns', None)\n",
    "pd.set_option('display.max_rows', None)\n",
    "\n",
    "import json # library to handle JSON files\n",
    "\n",
    "# !conda install -c conda-forge geopy --yes # uncomment this line if you haven't completed the Foursquare API lab\n",
    "from geopy.geocoders import Nominatim # convert an address into latitude and longitude values\n",
    "\n",
    "import requests # library to handle requests\n",
    "from pandas.io.json import json_normalize # tranform JSON file into a pandas dataframe\n",
    "\n",
    "# Matplotlib and associated plotting modules\n",
    "import matplotlib.cm as cm\n",
    "import matplotlib.colors as colors\n",
    "\n",
    "# import k-means from clustering stage\n",
    "from sklearn.cluster import KMeans\n",
    "\n",
    "#!conda install -c conda-forge folium=0.5.0 --yes # uncomment this line if you haven't completed the Foursquare API lab\n",
    "import folium # map rendering library"
   ]
  },
  {
   "cell_type": "markdown",
   "metadata": {},
   "source": [
    "<br>Adding \"&query=food\" to the Foursquare API url to only get food-related venues. This way the search radius can be expanded without hitting the limit of 100 venues per city. The request and subsequent data frame building is looped over all 5 cities."
   ]
  },
  {
   "cell_type": "code",
   "execution_count": 2,
   "metadata": {},
   "outputs": [
    {
     "name": "stderr",
     "output_type": "stream",
     "text": [
      "<ipython-input-2-5efed386b48f>:42: FutureWarning: pandas.io.json.json_normalize is deprecated, use pandas.json_normalize instead\n",
      "  nearby_venues = json_normalize(venues) # flatten JSON\n"
     ]
    },
    {
     "data": {
      "text/html": [
       "<div>\n",
       "<style scoped>\n",
       "    .dataframe tbody tr th:only-of-type {\n",
       "        vertical-align: middle;\n",
       "    }\n",
       "\n",
       "    .dataframe tbody tr th {\n",
       "        vertical-align: top;\n",
       "    }\n",
       "\n",
       "    .dataframe thead th {\n",
       "        text-align: right;\n",
       "    }\n",
       "</style>\n",
       "<table border=\"1\" class=\"dataframe\">\n",
       "  <thead>\n",
       "    <tr style=\"text-align: right;\">\n",
       "      <th></th>\n",
       "      <th>name</th>\n",
       "      <th>categories</th>\n",
       "      <th>lat</th>\n",
       "      <th>lng</th>\n",
       "      <th>city</th>\n",
       "    </tr>\n",
       "  </thead>\n",
       "  <tbody>\n",
       "    <tr>\n",
       "      <th>0</th>\n",
       "      <td>Crown Shy</td>\n",
       "      <td>Restaurant</td>\n",
       "      <td>40.706187</td>\n",
       "      <td>-74.007490</td>\n",
       "      <td>New York</td>\n",
       "    </tr>\n",
       "    <tr>\n",
       "      <th>1</th>\n",
       "      <td>sweetgreen</td>\n",
       "      <td>Salad Place</td>\n",
       "      <td>40.705626</td>\n",
       "      <td>-74.008282</td>\n",
       "      <td>New York</td>\n",
       "    </tr>\n",
       "    <tr>\n",
       "      <th>2</th>\n",
       "      <td>Pisillo Italian Panini</td>\n",
       "      <td>Sandwich Place</td>\n",
       "      <td>40.710530</td>\n",
       "      <td>-74.007526</td>\n",
       "      <td>New York</td>\n",
       "    </tr>\n",
       "    <tr>\n",
       "      <th>3</th>\n",
       "      <td>Hudson Eats</td>\n",
       "      <td>Food Court</td>\n",
       "      <td>40.712666</td>\n",
       "      <td>-74.015901</td>\n",
       "      <td>New York</td>\n",
       "    </tr>\n",
       "    <tr>\n",
       "      <th>4</th>\n",
       "      <td>Los Tacos No. 1</td>\n",
       "      <td>Taco Place</td>\n",
       "      <td>40.714267</td>\n",
       "      <td>-74.008756</td>\n",
       "      <td>New York</td>\n",
       "    </tr>\n",
       "  </tbody>\n",
       "</table>\n",
       "</div>"
      ],
      "text/plain": [
       "                     name      categories        lat        lng      city\n",
       "0               Crown Shy      Restaurant  40.706187 -74.007490  New York\n",
       "1              sweetgreen     Salad Place  40.705626 -74.008282  New York\n",
       "2  Pisillo Italian Panini  Sandwich Place  40.710530 -74.007526  New York\n",
       "3             Hudson Eats      Food Court  40.712666 -74.015901  New York\n",
       "4         Los Tacos No. 1      Taco Place  40.714267 -74.008756  New York"
      ]
     },
     "execution_count": 2,
     "metadata": {},
     "output_type": "execute_result"
    }
   ],
   "source": [
    "# function that extracts the category of the venue\n",
    "def get_category_type(row):\n",
    "    try:\n",
    "        categories_list = row['categories']\n",
    "    except:\n",
    "        categories_list = row['venue.categories']\n",
    "        \n",
    "    if len(categories_list) == 0:\n",
    "        return None\n",
    "    else:\n",
    "        return categories_list[0]['name']\n",
    "\n",
    "# list of cities and their financial centers as coordinates\n",
    "cities = [\"New York\", \"Toronto\", \"Tokyo\", \"London\", \"Frankfurt\"]\n",
    "latitudes = [40.7077426113486, 43.64803026178278, 35.679822325779995, 51.515259192193064, 50.11081120228777]\n",
    "longitudes = [-74.01157215146745, -79.3816696346114, 139.77014548424125, -0.08039578093893954, 8.67324827528688]\n",
    "\n",
    "# Foursquare API credentials\n",
    "CLIENT_ID = 'T0ETMOBTMRGKDWDG5VBSUFRUVWYJDTLHMLZHN2APZ545NNGR' # your Foursquare ID\n",
    "CLIENT_SECRET = 'T03SSSFDVCM1JFVTX4YJLGS2IJPYD2AMRNWAR4DAXF2RFMZA' # your Foursquare Secret\n",
    "VERSION = '20180605' # Foursquare API version\n",
    "LIMIT = 100 # limit of number of venues returned by Foursquare API\n",
    "radius = 10000 # define radius\n",
    "\n",
    "# a list to store all data frames in\n",
    "all_df = list()\n",
    "\n",
    "# loop over all 5 cities\n",
    "for i in range(len(cities)):\n",
    "# create URL\n",
    "    url = 'https://api.foursquare.com/v2/venues/explore?&client_id={}&client_secret={}&v={}&ll={},{}&radius={}&limit={}&query=food'.format(\n",
    "        CLIENT_ID, \n",
    "        CLIENT_SECRET, \n",
    "        VERSION, \n",
    "        latitudes[i], \n",
    "        longitudes[i], \n",
    "        radius, \n",
    "        LIMIT)\n",
    "\n",
    "    results = requests.get(url).json()\n",
    "    venues = results['response']['groups'][0]['items']\n",
    "    nearby_venues = json_normalize(venues) # flatten JSON\n",
    "\n",
    "# filter columns\n",
    "    filtered_columns = ['venue.name', 'venue.categories', 'venue.location.lat', 'venue.location.lng']\n",
    "    nearby_venues = nearby_venues.loc[:, filtered_columns]\n",
    "\n",
    "# filter the category for each row\n",
    "    nearby_venues['venue.categories'] = nearby_venues.apply(get_category_type, axis=1)\n",
    "\n",
    "# clean columns\n",
    "    nearby_venues.columns = [col.split(\".\")[-1] for col in nearby_venues.columns]\n",
    "    nearby_venues['city'] = cities[i]\n",
    "# add city name to column\n",
    "    all_df.append(nearby_venues)\n",
    "    \n",
    "all_df[0].head()"
   ]
  },
  {
   "cell_type": "markdown",
   "metadata": {},
   "source": [
    "(Note: this is only one of 5 data frames. The visualization of all comes with a map)"
   ]
  },
  {
   "cell_type": "markdown",
   "metadata": {},
   "source": [
    "<br>Although bistros and cafes also serve food, for simplicity, we use restaurant-type categories only."
   ]
  },
  {
   "cell_type": "code",
   "execution_count": 3,
   "metadata": {},
   "outputs": [
    {
     "data": {
      "text/html": [
       "<div>\n",
       "<style scoped>\n",
       "    .dataframe tbody tr th:only-of-type {\n",
       "        vertical-align: middle;\n",
       "    }\n",
       "\n",
       "    .dataframe tbody tr th {\n",
       "        vertical-align: top;\n",
       "    }\n",
       "\n",
       "    .dataframe thead th {\n",
       "        text-align: right;\n",
       "    }\n",
       "</style>\n",
       "<table border=\"1\" class=\"dataframe\">\n",
       "  <thead>\n",
       "    <tr style=\"text-align: right;\">\n",
       "      <th></th>\n",
       "      <th>name</th>\n",
       "      <th>categories</th>\n",
       "      <th>lat</th>\n",
       "      <th>lng</th>\n",
       "      <th>city</th>\n",
       "    </tr>\n",
       "  </thead>\n",
       "  <tbody>\n",
       "    <tr>\n",
       "      <th>0</th>\n",
       "      <td>Canoe</td>\n",
       "      <td>Restaurant</td>\n",
       "      <td>43.647452</td>\n",
       "      <td>-79.381320</td>\n",
       "      <td>Toronto</td>\n",
       "    </tr>\n",
       "    <tr>\n",
       "      <th>1</th>\n",
       "      <td>Pai</td>\n",
       "      <td>Thai Restaurant</td>\n",
       "      <td>43.647923</td>\n",
       "      <td>-79.388579</td>\n",
       "      <td>Toronto</td>\n",
       "    </tr>\n",
       "    <tr>\n",
       "      <th>2</th>\n",
       "      <td>Richmond Station</td>\n",
       "      <td>American Restaurant</td>\n",
       "      <td>43.651569</td>\n",
       "      <td>-79.379266</td>\n",
       "      <td>Toronto</td>\n",
       "    </tr>\n",
       "    <tr>\n",
       "      <th>3</th>\n",
       "      <td>Byblos Toronto</td>\n",
       "      <td>Mediterranean Restaurant</td>\n",
       "      <td>43.647615</td>\n",
       "      <td>-79.388381</td>\n",
       "      <td>Toronto</td>\n",
       "    </tr>\n",
       "    <tr>\n",
       "      <th>4</th>\n",
       "      <td>The Keg Steakhouse + Bar - York Street</td>\n",
       "      <td>Restaurant</td>\n",
       "      <td>43.649987</td>\n",
       "      <td>-79.384103</td>\n",
       "      <td>Toronto</td>\n",
       "    </tr>\n",
       "  </tbody>\n",
       "</table>\n",
       "</div>"
      ],
      "text/plain": [
       "                                     name                categories  \\\n",
       "0                                   Canoe                Restaurant   \n",
       "1                                     Pai           Thai Restaurant   \n",
       "2                        Richmond Station       American Restaurant   \n",
       "3                          Byblos Toronto  Mediterranean Restaurant   \n",
       "4  The Keg Steakhouse + Bar - York Street                Restaurant   \n",
       "\n",
       "         lat        lng     city  \n",
       "0  43.647452 -79.381320  Toronto  \n",
       "1  43.647923 -79.388579  Toronto  \n",
       "2  43.651569 -79.379266  Toronto  \n",
       "3  43.647615 -79.388381  Toronto  \n",
       "4  43.649987 -79.384103  Toronto  "
      ]
     },
     "execution_count": 3,
     "metadata": {},
     "output_type": "execute_result"
    }
   ],
   "source": [
    "# list restaurants data frames\n",
    "restaurants = list()\n",
    "for i in range(5):\n",
    "    restaurants.append(all_df[i][all_df[i]['categories'].str.match(\".*Restaurant*.\")])\n",
    "restaurants[1].head()"
   ]
  },
  {
   "cell_type": "markdown",
   "metadata": {},
   "source": [
    "Some restaurants don't have a specification for their kitchen. These will be treated as \"miscellaneous\" category."
   ]
  },
  {
   "cell_type": "code",
   "execution_count": 4,
   "metadata": {},
   "outputs": [
    {
     "name": "stdout",
     "output_type": "stream",
     "text": [
      "Number of restaurants in New York :   56\n",
      "Misc. Restaurants: 1\n",
      "Number of restaurants in Toronto :   53\n",
      "Misc. Restaurants: 8\n",
      "Number of restaurants in Tokyo :   66\n",
      "Misc. Restaurants: 1\n",
      "Number of restaurants in London :   55\n",
      "Misc. Restaurants: 7\n",
      "Number of restaurants in Frankfurt :   48\n",
      "Misc. Restaurants: 5\n"
     ]
    }
   ],
   "source": [
    "for i in range(5):\n",
    "    print(\"Number of restaurants in\",cities[i],\":  \",len(restaurants[i]))\n",
    "    print(\"Misc. Restaurants:\", sum(restaurants[i]['categories'].str.match(\"Restaurant\")) )"
   ]
  },
  {
   "cell_type": "code",
   "execution_count": 5,
   "metadata": {},
   "outputs": [
    {
     "data": {
      "text/html": [
       "<div>\n",
       "<style scoped>\n",
       "    .dataframe tbody tr th:only-of-type {\n",
       "        vertical-align: middle;\n",
       "    }\n",
       "\n",
       "    .dataframe tbody tr th {\n",
       "        vertical-align: top;\n",
       "    }\n",
       "\n",
       "    .dataframe thead th {\n",
       "        text-align: right;\n",
       "    }\n",
       "</style>\n",
       "<table border=\"1\" class=\"dataframe\">\n",
       "  <thead>\n",
       "    <tr style=\"text-align: right;\">\n",
       "      <th></th>\n",
       "      <th>name</th>\n",
       "      <th>categories</th>\n",
       "      <th>lat</th>\n",
       "      <th>lng</th>\n",
       "      <th>city</th>\n",
       "    </tr>\n",
       "  </thead>\n",
       "  <tbody>\n",
       "    <tr>\n",
       "      <th>0</th>\n",
       "      <td>Canoe</td>\n",
       "      <td>Miscellaneous Restaurant</td>\n",
       "      <td>43.647452</td>\n",
       "      <td>-79.381320</td>\n",
       "      <td>Toronto</td>\n",
       "    </tr>\n",
       "    <tr>\n",
       "      <th>1</th>\n",
       "      <td>Pai</td>\n",
       "      <td>Thai Restaurant</td>\n",
       "      <td>43.647923</td>\n",
       "      <td>-79.388579</td>\n",
       "      <td>Toronto</td>\n",
       "    </tr>\n",
       "    <tr>\n",
       "      <th>2</th>\n",
       "      <td>Richmond Station</td>\n",
       "      <td>American Restaurant</td>\n",
       "      <td>43.651569</td>\n",
       "      <td>-79.379266</td>\n",
       "      <td>Toronto</td>\n",
       "    </tr>\n",
       "    <tr>\n",
       "      <th>3</th>\n",
       "      <td>Byblos Toronto</td>\n",
       "      <td>Mediterranean Restaurant</td>\n",
       "      <td>43.647615</td>\n",
       "      <td>-79.388381</td>\n",
       "      <td>Toronto</td>\n",
       "    </tr>\n",
       "    <tr>\n",
       "      <th>4</th>\n",
       "      <td>The Keg Steakhouse + Bar - York Street</td>\n",
       "      <td>Miscellaneous Restaurant</td>\n",
       "      <td>43.649987</td>\n",
       "      <td>-79.384103</td>\n",
       "      <td>Toronto</td>\n",
       "    </tr>\n",
       "  </tbody>\n",
       "</table>\n",
       "</div>"
      ],
      "text/plain": [
       "                                     name                categories  \\\n",
       "0                                   Canoe  Miscellaneous Restaurant   \n",
       "1                                     Pai           Thai Restaurant   \n",
       "2                        Richmond Station       American Restaurant   \n",
       "3                          Byblos Toronto  Mediterranean Restaurant   \n",
       "4  The Keg Steakhouse + Bar - York Street  Miscellaneous Restaurant   \n",
       "\n",
       "         lat        lng     city  \n",
       "0  43.647452 -79.381320  Toronto  \n",
       "1  43.647923 -79.388579  Toronto  \n",
       "2  43.651569 -79.379266  Toronto  \n",
       "3  43.647615 -79.388381  Toronto  \n",
       "4  43.649987 -79.384103  Toronto  "
      ]
     },
     "execution_count": 5,
     "metadata": {},
     "output_type": "execute_result"
    }
   ],
   "source": [
    "# renaming \"Restaurants\" to \"Miscellaneous Restaurant\"\n",
    "for i in range(5):\n",
    "    restaurants[i].loc[:]['categories'] = restaurants[i].loc[:]['categories'].replace('Restaurant','Miscellaneous Restaurant')\n",
    "restaurants[1].head()"
   ]
  },
  {
   "cell_type": "markdown",
   "metadata": {},
   "source": [
    "Finally, a map of the restaurants (Folium maps are not depicted when opened on GitHub, so I will provide a screenshot below)"
   ]
  },
  {
   "cell_type": "code",
   "execution_count": 7,
   "metadata": {},
   "outputs": [],
   "source": [
    "map_all = folium.Map(location=[0, 0], zoom_start=2)\n",
    "\n",
    "# add markers to map\n",
    "for i in range(5):\n",
    "    for lat, lng, name, category in zip(restaurants[i]['lat'], restaurants[i]['lng'], restaurants[i]['name'], restaurants[i]['categories']):\n",
    "        label = '{}, {}'.format(name, category)\n",
    "        label = folium.Popup(label, parse_html=True)\n",
    "        folium.CircleMarker(\n",
    "            [lat, lng],\n",
    "            radius=5,\n",
    "            popup=label,\n",
    "            color='blue',\n",
    "            fill=True,\n",
    "            fill_color='#3186cc',\n",
    "            fill_opacity=0.7,\n",
    "            parse_html=False).add_to(map_all)  \n",
    "    \n",
    "# map_all"
   ]
  },
  {
   "cell_type": "markdown",
   "metadata": {},
   "source": [
    "![](map1.jpg)"
   ]
  },
  {
   "cell_type": "code",
   "execution_count": null,
   "metadata": {},
   "outputs": [],
   "source": []
  }
 ],
 "metadata": {
  "kernelspec": {
   "display_name": "Python 3",
   "language": "python",
   "name": "python3"
  },
  "language_info": {
   "codemirror_mode": {
    "name": "ipython",
    "version": 3
   },
   "file_extension": ".py",
   "mimetype": "text/x-python",
   "name": "python",
   "nbconvert_exporter": "python",
   "pygments_lexer": "ipython3",
   "version": "3.8.5"
  }
 },
 "nbformat": 4,
 "nbformat_minor": 4
}
